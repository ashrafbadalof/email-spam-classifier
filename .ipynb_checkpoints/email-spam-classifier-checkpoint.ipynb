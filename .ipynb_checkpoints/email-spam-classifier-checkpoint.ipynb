{
 "cells": [
  {
   "cell_type": "code",
   "execution_count": 2,
   "id": "d00bd908-90b4-46cf-ab65-65ee2d678fe2",
   "metadata": {},
   "outputs": [],
   "source": [
    "import os\n",
    "import tarfile\n",
    "import urllib.request\n",
    "\n",
    "Download_Root = \"https://spamassassin.apache.org/old/publiccorpus/\"\n",
    "Ham_Url = Download_Root + \"20021010_easy_ham.tar.bz2\"\n",
    "Spam_Url = Download_Root + \"20021010_spam.tar.bz2\"\n",
    "Spam_Path = os.path.join(\"datasets\", \"spam\")\n",
    "\n",
    "def fetch_data(ham_url = Ham_Url, spam_url = Spam_Url, spam_path = Spam_Path):\n",
    "    if not os.path.isdir(spam_path):\n",
    "        os.makedirs(spam_path)\n",
    "    for filename, url in ((\"easy_ham.tar.bz2\", ham_url), (\"spam.tar.bz2\", spam_url)):\n",
    "        path = os.path.join(spam_path, filename)\n",
    "        if not os.path.isfile(path):\n",
    "            urllib.request.urlretrieve(url, path)\n",
    "        tar_file = tarfile.open(path)\n",
    "        tar_file.extractall(path = spam_path)\n",
    "        tar_file.close()"
   ]
  },
  {
   "cell_type": "code",
   "execution_count": 3,
   "id": "f1d588b7-d626-404c-8989-4acf33718802",
   "metadata": {},
   "outputs": [],
   "source": [
    "fetch_data()"
   ]
  },
  {
   "cell_type": "code",
   "execution_count": 4,
   "id": "0b65ce5f-bf0a-43c8-90b3-879bcb7a5233",
   "metadata": {},
   "outputs": [],
   "source": [
    "ham_dir = os.path.join(Spam_Path, \"easy_ham\")\n",
    "spam_dir = os.path.join(Spam_Path, \"spam\")\n",
    "ham_filenames = [name for name in sorted(os.listdir(ham_dir)) if len(name) > 20]\n",
    "spam_filenames = [name for name in sorted(os.listdir(spam_dir)) if len(name) > 20]"
   ]
  },
  {
   "cell_type": "code",
   "execution_count": 5,
   "id": "44cf69fe-5186-4339-b9b4-5b99823582ed",
   "metadata": {},
   "outputs": [
    {
     "data": {
      "text/plain": [
       "2551"
      ]
     },
     "execution_count": 5,
     "metadata": {},
     "output_type": "execute_result"
    }
   ],
   "source": [
    "len(ham_filenames)"
   ]
  },
  {
   "cell_type": "code",
   "execution_count": 6,
   "id": "00b38dc4-71ec-4fde-949a-ed675cb94481",
   "metadata": {},
   "outputs": [
    {
     "data": {
      "text/plain": [
       "501"
      ]
     },
     "execution_count": 6,
     "metadata": {},
     "output_type": "execute_result"
    }
   ],
   "source": [
    "len(spam_filenames)"
   ]
  },
  {
   "cell_type": "code",
   "execution_count": 7,
   "id": "ae6475ad-6739-408f-a0e5-2f377a08c01b",
   "metadata": {},
   "outputs": [],
   "source": [
    "import email\n",
    "import email.policy\n",
    "\n",
    "def load_emails(is_spam, filename, spam_path = Spam_Path):\n",
    "    directory = \"spam\" if is_spam else \"easy_ham\"\n",
    "    with open(os.path.join(spam_path, directory, filename), \"rb\") as f:\n",
    "        return email.parser.BytesParser(policy = email.policy.default).parse(f)"
   ]
  },
  {
   "cell_type": "code",
   "execution_count": 8,
   "id": "ba1080db-b025-4246-9d34-73f6ae45d6a7",
   "metadata": {},
   "outputs": [],
   "source": [
    "ham_emails = [load_emails(is_spam = False, filename = name) for name in ham_filenames]\n",
    "spam_emails = [load_emails(is_spam = True, filename = name) for name in spam_filenames]"
   ]
  },
  {
   "cell_type": "code",
   "execution_count": 9,
   "id": "40c9da4b-6333-457e-8104-84ed8742a2ee",
   "metadata": {},
   "outputs": [
    {
     "name": "stdout",
     "output_type": "stream",
     "text": [
      "Klez: The Virus That Won't Die\n",
      " \n",
      "Already the most prolific virus ever, Klez continues to wreak havoc.\n",
      "\n",
      "Andrew Brandt\n",
      ">>From the September 2002 issue of PC World magazine\n",
      "Posted Thursday, August 01, 2002\n",
      "\n",
      "\n",
      "The Klez worm is approaching its seventh month of wriggling across \n",
      "the Web, making it one of the most persistent viruses ever. And \n",
      "experts warn that it may be a harbinger of new viruses that use a \n",
      "combination of pernicious approaches to go from PC to PC.\n",
      "\n",
      "Antivirus software makers Symantec and McAfee both report more than \n",
      "2000 new infections daily, with no sign of letup at press time. The \n",
      "British security firm MessageLabs estimates that 1 in every 300 \n",
      "e-mail messages holds a variation of the Klez virus, and says that \n",
      "Klez has already surpassed last summer's SirCam as the most prolific \n",
      "virus ever.\n",
      "\n",
      "And some newer Klez variants aren't merely nuisances--they can carry \n",
      "other viruses in them that corrupt your data.\n",
      "\n",
      "...\n",
      "\n",
      "http://www.pcworld.com/news/article/0,aid,103259,00.asp\n",
      "_______________________________________________\n",
      "Irregulars mailing list\n",
      "Irregulars@tb.tf\n",
      "http://tb.tf/mailman/listinfo/irregulars\n"
     ]
    }
   ],
   "source": [
    "print(ham_emails[3].get_content().strip())"
   ]
  },
  {
   "cell_type": "code",
   "execution_count": 10,
   "id": "cecc7445-0281-4cde-abbd-c24ffb67f13d",
   "metadata": {},
   "outputs": [
    {
     "name": "stdout",
     "output_type": "stream",
     "text": [
      "1) Fight The Risk of Cancer!\n",
      "http://www.adclick.ws/p.cfm?o=315&s=pk007\n",
      "\n",
      "2) Slim Down - Guaranteed to lose 10-12 lbs in 30 days\n",
      "http://www.adclick.ws/p.cfm?o=249&s=pk007\n",
      "\n",
      "3) Get the Child Support You Deserve - Free Legal Advice\n",
      "http://www.adclick.ws/p.cfm?o=245&s=pk002\n",
      "\n",
      "4) Join the Web's Fastest Growing Singles Community\n",
      "http://www.adclick.ws/p.cfm?o=259&s=pk007\n",
      "\n",
      "5) Start Your Private Photo Album Online!\n",
      "http://www.adclick.ws/p.cfm?o=283&s=pk007\n",
      "\n",
      "Have a Wonderful Day,\n",
      "Offer Manager\n",
      "PrizeMama\n",
      "\n",
      "\n",
      "\n",
      "\n",
      "\n",
      "\n",
      "\n",
      "\n",
      "\n",
      "\n",
      "\n",
      "\n",
      "\n",
      "If you wish to leave this list please use the link below.\n",
      "http://www.qves.com/trim/?zzzz@example.com%7C17%7C308417\n"
     ]
    }
   ],
   "source": [
    "print(spam_emails[3].get_content().strip())"
   ]
  },
  {
   "cell_type": "code",
   "execution_count": 11,
   "id": "5a2a55c4-24f6-4b35-a384-9e978fa17daf",
   "metadata": {},
   "outputs": [
    {
     "name": "stdout",
     "output_type": "stream",
     "text": [
      "string\n"
     ]
    }
   ],
   "source": [
    "# for understanding what isinstance function do\n",
    "x = \"sjus\"\n",
    "\n",
    "if isinstance(x, str):\n",
    "    print(\"string\")\n",
    "else:\n",
    "    print(\"not string\")"
   ]
  },
  {
   "cell_type": "code",
   "execution_count": 12,
   "id": "ed7a6329-151e-413e-a5fd-e5b70a8c0885",
   "metadata": {},
   "outputs": [],
   "source": [
    "def get_email_structure(email):\n",
    "    if isinstance(email, str):\n",
    "        return email\n",
    "    payload = email.get_payload()\n",
    "    if isinstance(payload, list):\n",
    "        return f\"multipart({', '.join([get_email_structure(sub_email) for sub_email in payload])})\"\n",
    "    else:\n",
    "        return email.get_content_type()"
   ]
  },
  {
   "cell_type": "code",
   "execution_count": 13,
   "id": "b8c7530f-6b01-4001-8224-88e940570c7f",
   "metadata": {},
   "outputs": [],
   "source": [
    "from collections import Counter\n",
    "\n",
    "def get_counts(emails):\n",
    "    counter = Counter()\n",
    "    for email in emails:\n",
    "        structure = get_email_structure(email)\n",
    "        counter[structure] +=1\n",
    "    return counter"
   ]
  },
  {
   "cell_type": "code",
   "execution_count": 14,
   "id": "616be708-f771-4139-b039-4105e6842b40",
   "metadata": {},
   "outputs": [
    {
     "data": {
      "text/plain": [
       "[('text/plain', 2453),\n",
       " ('multipart(text/plain, application/pgp-signature)', 72),\n",
       " ('multipart(text/plain, text/html)', 8),\n",
       " ('multipart(text/plain, text/plain)', 4),\n",
       " ('multipart(text/plain)', 3),\n",
       " ('multipart(text/plain, application/octet-stream)', 2),\n",
       " ('multipart(text/plain, text/enriched)', 1),\n",
       " ('multipart(text/plain, application/ms-tnef, text/plain)', 1),\n",
       " ('multipart(multipart(text/plain, text/plain, text/plain), application/pgp-signature)',\n",
       "  1),\n",
       " ('multipart(text/plain, video/mng)', 1),\n",
       " ('multipart(text/plain, multipart(text/plain))', 1),\n",
       " ('multipart(text/plain, application/x-pkcs7-signature)', 1),\n",
       " ('multipart(text/plain, multipart(text/plain, text/plain), text/rfc822-headers)',\n",
       "  1),\n",
       " ('multipart(text/plain, multipart(text/plain, text/plain), multipart(multipart(text/plain, application/x-pkcs7-signature)))',\n",
       "  1),\n",
       " ('multipart(text/plain, application/x-java-applet)', 1)]"
      ]
     },
     "execution_count": 14,
     "metadata": {},
     "output_type": "execute_result"
    }
   ],
   "source": [
    "get_counts(ham_emails).most_common()"
   ]
  },
  {
   "cell_type": "code",
   "execution_count": 15,
   "id": "c2b7a932-c347-47c8-b3ef-fd57f8ebe62a",
   "metadata": {},
   "outputs": [
    {
     "data": {
      "text/plain": [
       "[('text/plain', 222),\n",
       " ('text/html', 181),\n",
       " ('multipart(text/plain, text/html)', 45),\n",
       " ('multipart(text/html)', 19),\n",
       " ('multipart(text/plain)', 19),\n",
       " ('multipart(multipart(text/html))', 5),\n",
       " ('multipart(text/plain, image/jpeg)', 3),\n",
       " ('multipart(text/html, application/octet-stream)', 2),\n",
       " ('multipart(text/plain, application/octet-stream)', 1),\n",
       " ('multipart(text/html, text/plain)', 1),\n",
       " ('multipart(multipart(text/html), application/octet-stream, image/jpeg)', 1),\n",
       " ('multipart(multipart(text/plain, text/html), image/gif)', 1),\n",
       " ('multipart/alternative', 1)]"
      ]
     },
     "execution_count": 15,
     "metadata": {},
     "output_type": "execute_result"
    }
   ],
   "source": [
    "get_counts(spam_emails).most_common()"
   ]
  },
  {
   "cell_type": "code",
   "execution_count": 16,
   "id": "5d6bdfb7-518a-4dde-9950-5df7cc938219",
   "metadata": {},
   "outputs": [
    {
     "name": "stdout",
     "output_type": "stream",
     "text": [
      "Return-Path : <12a1mailbot1@web.de>\n",
      "Delivered-To : zzzz@localhost.example.com\n",
      "Received : from localhost (localhost [127.0.0.1])\tby phobos.labs.example.com (Postfix) with ESMTP id 136B943C32\tfor <zzzz@localhost>; Thu, 22 Aug 2002 08:17:21 -0400 (EDT)\n",
      "Received : from mail.webnote.net [193.120.211.219]\tby localhost with POP3 (fetchmail-5.9.0)\tfor zzzz@localhost (single-drop); Thu, 22 Aug 2002 13:17:21 +0100 (IST)\n",
      "Received : from dd_it7 ([210.97.77.167])\tby webnote.net (8.9.3/8.9.3) with ESMTP id NAA04623\tfor <zzzz@example.com>; Thu, 22 Aug 2002 13:09:41 +0100\n",
      "From : 12a1mailbot1@web.de\n",
      "Received : from r-smtp.korea.com - 203.122.2.197 by dd_it7  with Microsoft SMTPSVC(5.5.1775.675.6);\t Sat, 24 Aug 2002 09:42:10 +0900\n",
      "To : dcek1a1@netsgo.com\n",
      "Subject : Life Insurance - Why Pay More?\n",
      "Date : Wed, 21 Aug 2002 20:31:57 -1600\n",
      "MIME-Version : 1.0\n",
      "Message-ID : <0103c1042001882DD_IT7@dd_it7>\n",
      "Content-Type : text/html; charset=\"iso-8859-1\"\n",
      "Content-Transfer-Encoding : quoted-printable\n"
     ]
    }
   ],
   "source": [
    "for header, value in spam_emails[1].items():\n",
    "    print(header,\":\",value)"
   ]
  },
  {
   "cell_type": "code",
   "execution_count": 17,
   "id": "acbb6c18-65ac-45bf-bcf4-cf947c93a875",
   "metadata": {},
   "outputs": [
    {
     "data": {
      "text/plain": [
       "'Life Insurance - Why Pay More?'"
      ]
     },
     "execution_count": 17,
     "metadata": {},
     "output_type": "execute_result"
    }
   ],
   "source": [
    "spam_emails[1]['Subject']"
   ]
  },
  {
   "cell_type": "code",
   "execution_count": 18,
   "id": "4ed5e181-87fd-4f37-98da-7f45ca8dcea6",
   "metadata": {},
   "outputs": [
    {
     "data": {
      "text/plain": [
       "'12a1mailbot1@web.de'"
      ]
     },
     "execution_count": 18,
     "metadata": {},
     "output_type": "execute_result"
    }
   ],
   "source": [
    "spam_emails[1]['From']"
   ]
  },
  {
   "cell_type": "code",
   "execution_count": 19,
   "id": "d3673d8d-355d-461c-acfb-74d7dcff48be",
   "metadata": {},
   "outputs": [],
   "source": [
    "import numpy as np\n",
    "from sklearn.model_selection import train_test_split\n",
    "\n",
    "X = np.array(ham_emails + spam_emails, dtype=object)\n",
    "y = np.array([0] * len(ham_emails) + [1] * len(spam_emails))\n",
    "\n",
    "X_train, X_test, y_train, y_test = train_test_split(X, y, test_size = 0.2, random_state =42)"
   ]
  },
  {
   "cell_type": "code",
   "execution_count": 20,
   "id": "9324324c-2447-4fcf-9328-55c659fa5324",
   "metadata": {},
   "outputs": [
    {
     "name": "stdout",
     "output_type": "stream",
     "text": [
      "Length of X_train: 2441\n",
      "Length of X_test: 611\n"
     ]
    }
   ],
   "source": [
    "print(f\"Length of X_train: {len(X_train)}\")\n",
    "print(f\"Length of X_test: {len(X_test)}\")"
   ]
  },
  {
   "cell_type": "code",
   "execution_count": 21,
   "id": "a8c6f84d-a6f3-49ba-aaa7-42127796b92b",
   "metadata": {},
   "outputs": [],
   "source": [
    "import re\n",
    "from html import unescape\n",
    "\n",
    "def html_to_plain_text(html):\n",
    "    text = re.sub('<head.*?>.*?</head>', '', html, flags=re.M | re.S | re.I)\n",
    "    text = re.sub('<a\\s.*?>', ' HYPERLINK ', text, flags=re.M | re.S | re.I)\n",
    "    text = re.sub('<.*?>', '', text, flags=re.M | re.S)\n",
    "    text = re.sub(r'(\\s*\\n)+', '\\n', text, flags=re.M | re.S)\n",
    "    return unescape(text)"
   ]
  },
  {
   "cell_type": "code",
   "execution_count": 22,
   "id": "bb4c3581-cf7c-47cf-8a3b-2c18af40eda6",
   "metadata": {},
   "outputs": [
    {
     "name": "stdout",
     "output_type": "stream",
     "text": [
      "<html>\n",
      "<head>\n",
      "</head>\n",
      "<center>\n",
      "<h1>\n",
      "<b><font face=\"Arial Black\"><font color=\"#0000FF\"><font size=+2>&nbsp;\n",
      "Free Personal and Business Grants</font></font></font></b></h1></center>\n",
      "\n",
      "<p>&nbsp;\n",
      "<center><table BORDER=0 CELLSPACING=0 CELLPADDING=10 WIDTH=\"419\" BGCOLOR=\"#0000FF\" >\n",
      "<tr>\n",
      "<td WIDTH=\"397\" BGCOLOR=\"#FFFF00\">\n",
      "<center>\n",
      "<h2>\n",
      "<font face=\"Arial Narrow\">\" Qualify for <u>at least</u> $25,000 in free\n",
      "grants money - Guaranteed! \"</font></h2></center>\n",
      "</td>\n",
      "</tr>\n",
      "</table></center>\n",
      "\n",
      "<center>\n",
      "<h3>\n",
      "<font face=\"Arial\"><font size=+0>Each day over One Million Dollars in Free\n",
      "Government<br>\n",
      "Grants&nbsp; is given away to people just like you for a wide<br>\n",
      "variety of Business And Personal Needs</font></font></h3></center>\n",
      "<font face=\"Verdana\"><font size=-1>&nbsp;&nbsp;&nbsp;&nbsp;&nbsp;&nbsp;&nbsp;\n",
      "Dear Grant Seeker,</font></font>\n",
      "<blockquote><font face=\"Verdana\"><font size=-1>In a moment, I'll tell you\n",
      "exactly <b>HOW &amp; WHERE</b> to get Grants. This <b>MONEY</b> has to\n",
      "be given away, <b>WHY</b ...\n"
     ]
    }
   ],
   "source": [
    "html_spam_emails = [email for email in X_train[y_train==1]\n",
    "                    if get_email_structure(email) == \"text/html\"]\n",
    "sample_html_spam = html_spam_emails[7]\n",
    "print(sample_html_spam.get_content().strip()[:1000], \"...\")"
   ]
  },
  {
   "cell_type": "code",
   "execution_count": 23,
   "id": "b7155e2b-3435-4e22-9f97-59ddd514db78",
   "metadata": {},
   "outputs": [
    {
     "name": "stdout",
     "output_type": "stream",
     "text": [
      "\n",
      " \n",
      "Free Personal and Business Grants\n",
      " \n",
      "\" Qualify for at least $25,000 in free\n",
      "grants money - Guaranteed! \"\n",
      "Each day over One Million Dollars in Free\n",
      "Government\n",
      "Grants  is given away to people just like you for a wide\n",
      "variety of Business And Personal Needs\n",
      "       \n",
      "Dear Grant Seeker,\n",
      "In a moment, I'll tell you\n",
      "exactly HOW & WHERE to get Grants. This MONEY has to\n",
      "be given away, WHY not to YOU?\n",
      "You may be thinking, \"How\n",
      "can I get some of this Free Grants Money\"\n",
      "Maybe you think it's impossible\n",
      "to get free money?\n",
      "Let me tell you it's not\n",
      "impossible! It's a fact, ordinary people and businesses all across the\n",
      "United States are receiving millions of dollars from these Government and\n",
      "Private Foundation's everyday.\n",
      "Who Can Apply?\n",
      "ANYONE can apply\n",
      "for a Grant from 18 years old and up!\n",
      "Grants from $500.00 to $50,000.00\n",
      "are possible! GRANTS don't have to be paid back,\n",
      "EVER! Claim\n",
      "your slice of the FREE American Pie.\n",
      "This money is not a loan,\n",
      "Trying to get money through a conventional bank can be ver ...\n"
     ]
    }
   ],
   "source": [
    "print(html_to_plain_text(sample_html_spam.get_content())[:1000], \"...\")"
   ]
  },
  {
   "cell_type": "code",
   "execution_count": 28,
   "id": "90646af2-43d2-4516-9598-52be718ff545",
   "metadata": {},
   "outputs": [],
   "source": [
    "def email_to_text(email):\n",
    "    html = None\n",
    "    for part in email.walk():\n",
    "        ctype = part.get_content_type()\n",
    "        if not ctype in (\"text/plain\", \"text/html\"):\n",
    "            continue\n",
    "        try:\n",
    "            content = part.get_content()\n",
    "        except:\n",
    "            content = str(part.get_payload())\n",
    "        if ctype == \"text/plain\":\n",
    "            return content\n",
    "        else:\n",
    "            html = content\n",
    "    if html:\n",
    "        return html_to_plain_text(html)"
   ]
  },
  {
   "cell_type": "code",
   "execution_count": 31,
   "id": "3bcdce91-8c7c-42d1-9f97-64fde8b6a91d",
   "metadata": {},
   "outputs": [
    {
     "name": "stdout",
     "output_type": "stream",
     "text": [
      "\n",
      " \n",
      "Free Personal and Business Grants\n",
      " \n",
      "\" Qualify for at least $25,000 in free\n",
      "grants money - Guaranteed! \"\n",
      "Each day over One Million Dollars in Free\n",
      "Government\n",
      "Grants  is given away to people just lik ...\n"
     ]
    }
   ],
   "source": [
    "print(email_to_text(sample_html_spam)[:200], \"...\")"
   ]
  },
  {
   "cell_type": "code",
   "execution_count": 33,
   "id": "a31abc18-bd43-4f42-9c25-395e3e79d587",
   "metadata": {},
   "outputs": [
    {
     "name": "stdout",
     "output_type": "stream",
     "text": [
      "readable -> readabl\n",
      "reader -> reader\n",
      "reading -> read\n",
      "peaceful -> peac\n",
      "written -> written\n"
     ]
    }
   ],
   "source": [
    "import nltk\n",
    "\n",
    "stemmer = nltk.PorterStemmer()\n",
    "for word in (\"readable\", \"reader\", \"reading\", \"peaceful\", \"written\"):\n",
    "    print(word, \"->\", stemmer.stem(word))"
   ]
  },
  {
   "cell_type": "code",
   "execution_count": 35,
   "id": "ade615f6-86e7-43ae-99eb-e6438838cd05",
   "metadata": {},
   "outputs": [
    {
     "name": "stdout",
     "output_type": "stream",
     "text": [
      "['https://www.youtube.com/watch?v=u7_d4IzPlFY']\n"
     ]
    }
   ],
   "source": [
    "import urlextract\n",
    "\n",
    "urlextract = urlextract.URLExtract()\n",
    "print(urlextract.find_urls(\"you can watch the video from this link https://www.youtube.com/watch?v=u7_d4IzPlFY\"))"
   ]
  },
  {
   "cell_type": "code",
   "execution_count": 38,
   "id": "9c2619d4-110c-4dea-b339-4da9e664bfa3",
   "metadata": {},
   "outputs": [],
   "source": [
    "from sklearn.base import BaseEstimator, TransformerMixin\n",
    "\n",
    "class EmailToWordCounterTransformer(BaseEstimator, TransformerMixin):\n",
    "    def __init__(self, strip_headers=True, lower_case=True, remove_punctuation=True,\n",
    "                 replace_urls=True, replace_numbers=True, stemming=True):\n",
    "        self.strip_headers = strip_headers\n",
    "        self.lower_case = lower_case\n",
    "        self.remove_punctuation = remove_punctuation\n",
    "        self.replace_urls = replace_urls\n",
    "        self.replace_numbers = replace_numbers\n",
    "        self.stemming = stemming\n",
    "    def fit(self, X, y=None):\n",
    "        return self\n",
    "    def transform(self, X, y=None):\n",
    "        X_transformed = []\n",
    "        for email in X:\n",
    "            text = email_to_text(email) or \"\"\n",
    "            if self.lower_case:\n",
    "                text = text.lower()\n",
    "            if self.replace_urls and urlextract is not None:\n",
    "                urls = list(set(urlextract.find_urls(text)))\n",
    "                urls.sort(key=lambda url: len(url), reverse=True)\n",
    "                for url in urls:\n",
    "                    text = text.replace(url, \" URL \")\n",
    "            if self.replace_numbers:\n",
    "                text = re.sub(r'\\d+(?:\\.\\d*)?(?:[eE][+-]?\\d+)?', 'NUMBER', text)\n",
    "            if self.remove_punctuation:\n",
    "                text = re.sub(r'\\W+', ' ', text, flags=re.M)\n",
    "            word_counts = Counter(text.split())\n",
    "            if self.stemming and stemmer is not None:\n",
    "                stemmed_word_counts = Counter()\n",
    "                for word, count in word_counts.items():\n",
    "                    stemmed_word = stemmer.stem(word)\n",
    "                    stemmed_word_counts[stemmed_word] += count\n",
    "                word_counts = stemmed_word_counts\n",
    "            X_transformed.append(word_counts)\n",
    "        return np.array(X_transformed)"
   ]
  },
  {
   "cell_type": "code",
   "execution_count": 39,
   "id": "d6e9519d-273f-40b6-bffa-5f311af2f8b6",
   "metadata": {},
   "outputs": [
    {
     "data": {
      "text/plain": [
       "array([Counter({'it': 4, 'pay': 3, 't': 3, 'the': 2, 'you': 2, 'without': 2, 's': 2, 'i': 2, 'a': 2, 'can': 2, 'look': 2, 'at': 2, 'if': 1, 'creator': 1, 'didnt': 1, 'say': 1, 'could': 1, 'have': 1, 'theft': 1, 'so': 1, 'simpl': 1, 'hell': 1, 'that': 1, 'even': 1, 'in': 1, 'all': 1, 'major': 1, 'holi': 1, 'book': 1, 'wow': 1, 've': 1, 'got': 1, 'great': 1, 'idea': 1, 'll': 1, 'hire': 1, 'skywrit': 1, 'to': 1, 'write': 1, 'thi': 1, 'then': 1, 'lock': 1, 'up': 1, 'everybodi': 1, 'who': 1, 'and': 1, 'didn': 1, 'fail': 1, 'jesu': 1, 'is': 1, 'on': 1, 'my': 1, 'side': 1, 'url': 1}),\n",
       "       Counter({'i': 8, 'number': 7, 'to': 5, 'the': 5, 'of': 4, 'com': 3, 'we': 3, 'realli': 3, 'look': 3, 'it': 3, 'that': 3, 'with': 3, 'date': 2, 'welch': 2, 'panasa': 2, 't': 2, 'but': 2, 'is': 2, 'what': 2, 'would': 2, 'time': 2, 'for': 2, 'a': 2, 'have': 2, 'm': 2, 'not': 2, 'will': 2, 'exmh': 2, 'worker': 2, 'tue': 1, 'aug': 1, 'from': 1, 'brent': 1, 'messag': 1, 'id': 1, 'numbervaanumb': 1, 'blackcomb': 1, 'if': 1, 'are': 1, 'allow': 1, 'assum': 1, 'or': 1, 'higher': 1, 'which': 1, 'can': 1, 'then': 1, 'could': 1, 'add': 1, 'selecttypein': 1, 'procedur': 1, 'ye': 1, 'at': 1, 'fix': 1, 'there': 1, 'code': 1, 'quit': 1, 'gener': 1, 'almost': 1, 'no': 1, 'understand': 1, 'anyth': 1, 'mean': 1, 'so': 1, 'didn': 1, 'think': 1, 'corrupt': 1, 'knowlwedg': 1, 'semant': 1, 'fetch': 1, 'be': 1, 'best': 1, 'thing': 1, 'do': 1, 'ran': 1, 'out': 1, 'last': 1, 'night': 1, 'while': 1, 'better': 1, 'place': 1, 'similar': 1, 'check': 1, 'gone': 1, 'directli': 1, 'regexp': 1, 'up': 1, 'all': 1, 'latest': 1, 'tcl': 1, 'chang': 1, 'and': 1, 'sure': 1, 'today': 1, 'keep': 1, 'kre': 1, '_______________________________________________': 1, 'mail': 1, 'list': 1, 'redhat': 1, 'url': 1}),\n",
       "       Counter({'number': 5, 'i': 3, 'list': 3, 'at': 2, 'think': 2, 'more': 2, 'url': 2, 'rpm': 2, 'on': 1, 'wed': 1, 'matthia': 1, 'saou': 1, 'wrote': 1, 'll': 1, 'use': 1, 'thi': 1, 'with': 1, 'whatev': 1, 'switch': 1, 'and': 1, 'where': 1, 'possibl': 1, 'nifti': 1, 've': 1, 'been': 1, 'about': 1, 'that': 1, 'too': 1, 'ani': 1, 'good': 1, 'idea': 1, 'how': 1, 'to': 1, 'document': 1, 'those': 1, 'target': 1, 'descript': 1, 'ill': 1, 'skyttä': 1, 'vill': 1, 'skytta': 1, '_______________________________________________': 1, 'mail': 1, 'freshrpm': 1, 'net': 1})],\n",
       "      dtype=object)"
      ]
     },
     "execution_count": 39,
     "metadata": {},
     "output_type": "execute_result"
    }
   ],
   "source": [
    "X_samples = X_train[:3]\n",
    "X_samples_counts = EmailToWordCounterTransformer().fit_transform(X_samples)\n",
    "X_samples_counts"
   ]
  },
  {
   "cell_type": "code",
   "execution_count": 40,
   "id": "402fe8bf-d5dc-40dc-8bb4-a449b690cdcf",
   "metadata": {},
   "outputs": [],
   "source": [
    "from scipy.sparse import csr_matrix\n",
    "\n",
    "class WordCounterToVectorTransformer(BaseEstimator, TransformerMixin):\n",
    "    def __init__(self, vocabulary_size=1000):\n",
    "        self.vocabulary_size = vocabulary_size\n",
    "    def fit(self, X, y=None):\n",
    "        total_count = Counter()\n",
    "        for word_count in X:\n",
    "            for word, count in word_count.items():\n",
    "                total_count[word] += min(count, 10)\n",
    "        most_common = total_count.most_common()[:self.vocabulary_size]\n",
    "        self.vocabulary_ = {word: index + 1 for index, (word, count) in enumerate(most_common)}\n",
    "        return self\n",
    "    def transform(self, X, y=None):\n",
    "        rows = []\n",
    "        cols = []\n",
    "        data = []\n",
    "        for row, word_count in enumerate(X):\n",
    "            for word, count in word_count.items():\n",
    "                rows.append(row)\n",
    "                cols.append(self.vocabulary_.get(word, 0))\n",
    "                data.append(count)\n",
    "        return csr_matrix((data, (rows, cols)), shape=(len(X), self.vocabulary_size + 1))"
   ]
  },
  {
   "cell_type": "code",
   "execution_count": 43,
   "id": "22482fe7-949f-4113-9d68-3cc3e43e45ca",
   "metadata": {},
   "outputs": [
    {
     "data": {
      "text/plain": [
       "<3x11 sparse matrix of type '<class 'numpy.intc'>'\n",
       "\twith 27 stored elements in Compressed Sparse Row format>"
      ]
     },
     "execution_count": 43,
     "metadata": {},
     "output_type": "execute_result"
    }
   ],
   "source": [
    "vocab_transformer = WordCounterToVectorTransformer(vocabulary_size=10)\n",
    "X_few_vectors = vocab_transformer.fit_transform(X_samples_counts)\n",
    "X_few_vectors"
   ]
  },
  {
   "cell_type": "code",
   "execution_count": 44,
   "id": "2c8c20f5-f738-4d1c-be7b-8860a176792c",
   "metadata": {},
   "outputs": [
    {
     "data": {
      "text/plain": [
       "array([[ 51,   2,   0,   2,   4,   1,   1,   3,   2,   2,   2],\n",
       "       [116,   8,   7,   5,   3,   5,   3,   2,   3,   1,   2],\n",
       "       [ 46,   3,   5,   0,   0,   1,   1,   0,   0,   2,   0]],\n",
       "      dtype=int32)"
      ]
     },
     "execution_count": 44,
     "metadata": {},
     "output_type": "execute_result"
    }
   ],
   "source": [
    "X_few_vectors.toarray()"
   ]
  },
  {
   "cell_type": "code",
   "execution_count": 45,
   "id": "785309d5-91c8-4f35-8de4-0762a6ae4c22",
   "metadata": {},
   "outputs": [
    {
     "data": {
      "text/plain": [
       "{'i': 1,\n",
       " 'number': 2,\n",
       " 'the': 3,\n",
       " 'it': 4,\n",
       " 'to': 5,\n",
       " 'that': 6,\n",
       " 't': 7,\n",
       " 'look': 8,\n",
       " 'at': 9,\n",
       " 'a': 10}"
      ]
     },
     "execution_count": 45,
     "metadata": {},
     "output_type": "execute_result"
    }
   ],
   "source": [
    "vocab_transformer.vocabulary_"
   ]
  },
  {
   "cell_type": "code",
   "execution_count": 47,
   "id": "b93f006e-1b42-4fbb-9544-fee4020ac468",
   "metadata": {},
   "outputs": [],
   "source": [
    "from sklearn.pipeline import Pipeline\n",
    "\n",
    "pipeline = Pipeline([\n",
    "    (\"emailtoword\", EmailToWordCounterTransformer()),\n",
    "    (\"wordcountertovec\", WordCounterToVectorTransformer())\n",
    "])\n",
    "X_transformed = pipeline.fit_transform(X_train)"
   ]
  },
  {
   "cell_type": "code",
   "execution_count": 50,
   "id": "c7b72478-83a9-4a59-8694-63ba275dd84b",
   "metadata": {},
   "outputs": [
    {
     "name": "stdout",
     "output_type": "stream",
     "text": [
      "[CV] END ................................ score: (test=0.988) total time=   0.0s\n",
      "[CV] END ................................ score: (test=0.994) total time=   0.2s\n",
      "[CV] END ................................ score: (test=0.985) total time=   0.2s\n"
     ]
    },
    {
     "data": {
      "text/plain": [
       "0.9889374446570018"
      ]
     },
     "execution_count": 50,
     "metadata": {},
     "output_type": "execute_result"
    }
   ],
   "source": [
    "from sklearn.linear_model import LogisticRegression\n",
    "from sklearn.model_selection import cross_val_score\n",
    "\n",
    "log_model = LogisticRegression(solver='lbfgs', max_iter=1000, random_state = 78)\n",
    "scores = cross_val_score(log_model, X_transformed, y_train, cv=3, verbose=3)\n",
    "scores.mean()"
   ]
  },
  {
   "cell_type": "code",
   "execution_count": 60,
   "id": "da424f88-9f69-4878-b3d3-9fe9d2eda11a",
   "metadata": {},
   "outputs": [
    {
     "name": "stdout",
     "output_type": "stream",
     "text": [
      "Precision score: 95.65%\n",
      "Recall score: 94.62%\n"
     ]
    }
   ],
   "source": [
    "from sklearn.metrics import precision_score, recall_score\n",
    "\n",
    "X_test_transformed = pipeline.transform(X_test)\n",
    "\n",
    "log_model = LogisticRegression(solver='lbfgs', max_iter = 1000, random_state = 78)\n",
    "log_model.fit(X_transformed, y_train)\n",
    "y_pred = log_model.predict(X_test_transformed)\n",
    "\n",
    "ps = precision_score(y_pred, y_test)\n",
    "rs = recall_score(y_pred, y_test)\n",
    "\n",
    "print(f\"Precision score: {100 * ps:.2f}%\")\n",
    "print(f\"Recall score: {100 * rs:.2f}%\")"
   ]
  }
 ],
 "metadata": {
  "kernelspec": {
   "display_name": "Python 3 (ipykernel)",
   "language": "python",
   "name": "python3"
  },
  "language_info": {
   "codemirror_mode": {
    "name": "ipython",
    "version": 3
   },
   "file_extension": ".py",
   "mimetype": "text/x-python",
   "name": "python",
   "nbconvert_exporter": "python",
   "pygments_lexer": "ipython3",
   "version": "3.11.5"
  }
 },
 "nbformat": 4,
 "nbformat_minor": 5
}
